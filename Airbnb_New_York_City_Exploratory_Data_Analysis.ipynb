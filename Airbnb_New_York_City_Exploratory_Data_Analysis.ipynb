{
 "cells": [
  {
   "cell_type": "markdown",
   "metadata": {},
   "source": [
    "## Import Package"
   ]
  },
  {
   "cell_type": "code",
   "execution_count": null,
   "metadata": {},
   "outputs": [],
   "source": [
    "import numpy as np\n",
    "import datetime as dt\n",
    "import pandas as pd\n",
    "import numpy as np\n",
    "import matplotlib.pyplot as plt\n",
    "\n",
    "pd.set_option('display.max_rows', 200)\n",
    "pd.set_option('display.max_columns', 300)"
   ]
  },
  {
   "cell_type": "markdown",
   "metadata": {},
   "source": [
    "## Import Dataset"
   ]
  },
  {
   "cell_type": "code",
   "execution_count": null,
   "metadata": {},
   "outputs": [],
   "source": [
    "# read input file\n",
    "listing = pd.read_csv(\"listings.csv\", low_memory=False)\n",
    "\n",
    "# convert host start date from string to date \n",
    "listing[\"host_since\"] = pd.to_datetime(listing[\"host_since\"])\n",
    "\n",
    "# convert price from string to float and name it as `price_per_day`\n",
    "listing[\"price_per_day\"] = listing[\"price\"].str.replace('$', '').str.replace(',', '').astype(float)"
   ]
  },
  {
   "cell_type": "code",
   "execution_count": null,
   "metadata": {
    "scrolled": true
   },
   "outputs": [],
   "source": [
    "listing.head(2)"
   ]
  },
  {
   "cell_type": "code",
   "execution_count": null,
   "metadata": {},
   "outputs": [],
   "source": [
    "print (\"What is the total listing?\", listing[\"id\"].count())\n",
    "print (\"What is the average price per day?\", int(listing[\"price_per_day\"].mean()))\n",
    "print (\"How many hosts in NYC?\", listing[\"host_id\"].nunique())\n",
    "print (\"How many neighborhoods in NYC?\", listing[\"neighbourhood_cleansed\"].nunique())"
   ]
  },
  {
   "cell_type": "markdown",
   "metadata": {},
   "source": [
    "## Create the Visualization Function - Bar Chart"
   ]
  },
  {
   "cell_type": "code",
   "execution_count": null,
   "metadata": {},
   "outputs": [],
   "source": [
    "def bar_chart(x, y, title, xlabel, ylabel, color, legend, weight, height, ymin, ymax, xticks_rotation): #font_size\n",
    "    #plt.style.use(\"ggplot\")\n",
    "    # color https://matplotlib.org/3.1.0/gallery/color/named_colors.html\n",
    "    fig, ax = plt.subplots(figsize = (weight, height))\n",
    "\n",
    "    rects = ax.bar(x, y, color = color, label = legend) #width = bar_width)\n",
    "\n",
    "    ax.set_title(title)\n",
    "    ax.set_xlabel(xlabel)\n",
    "    #ax.set_ylabel(ylabel)\n",
    "    ax.legend()\n",
    "    ax.set_ylim([ymin,ymax])\n",
    "    \n",
    "    def autolabel(rects):\n",
    "        for rect in rects:\n",
    "            height = rect.get_height()\n",
    "            ax.annotate('{}'.format(height),\n",
    "                        xy=(rect.get_x() + rect.get_width() / 2, height),\n",
    "                        xytext=(0, 3),\n",
    "                        textcoords=\"offset points\",\n",
    "                        ha='center', va='bottom')\n",
    "        \n",
    "    autolabel(rects)\n",
    "    plt.xticks(rotation = xticks_rotation) # horizontal, vertical\n",
    "    \n",
    "    fig.tight_layout()\n",
    "    #plt.figure()\n",
    "    #plt.rcParams.update({'font.size': font_size})\n",
    "    plt.show()"
   ]
  },
  {
   "cell_type": "markdown",
   "metadata": {},
   "source": [
    "## Listing and Price Review by New York City Boroughs"
   ]
  },
  {
   "cell_type": "code",
   "execution_count": null,
   "metadata": {},
   "outputs": [],
   "source": [
    "boroughs = listing.groupby([\"neighbourhood_group_cleansed\"]).agg({\"id\" : \"count\", \"price_per_day\" : \"mean\"}).reset_index()\n",
    "\n",
    "boroughs.rename(columns = {\"neighbourhood_group_cleansed\":\"Boroughs\",\n",
    "                           \"id\" : \"Listing_Count\",\n",
    "                           \"price_per_day\" : \"Average_Daily_Price\"}, inplace = True)\n",
    "\n",
    "boroughs[\"Listing_Pct\"] = boroughs[\"Listing_Count\"]/boroughs[\"Listing_Count\"].sum()\n",
    "boroughs.head(10)"
   ]
  },
  {
   "cell_type": "code",
   "execution_count": null,
   "metadata": {},
   "outputs": [],
   "source": [
    "boroughs.sort_values([\"Listing_Count\"], ascending = False, inplace = True)\n",
    "bar_chart(x = boroughs[\"Boroughs\"], \n",
    "          y = boroughs[\"Listing_Count\"], \n",
    "          legend = \"Total Listing\",\n",
    "          color = \"tab:blue\",\n",
    "          title = \"Total Listing by Boroughs\", \n",
    "          xlabel = \"Boroughs\",\n",
    "          ylabel = \"Listing\",\n",
    "          weight = 12,\n",
    "          height = 4,\n",
    "          ymin = None,\n",
    "          ymax = 24000,\n",
    "          #font_size = 14,\n",
    "          xticks_rotation = \"horizontal\"\n",
    "         )"
   ]
  },
  {
   "cell_type": "code",
   "execution_count": null,
   "metadata": {
    "scrolled": true
   },
   "outputs": [],
   "source": [
    "boroughs.sort_values([\"Average_Daily_Price\"], ascending = False, inplace = True)\n",
    "bar_chart(x = boroughs[\"Boroughs\"], \n",
    "          y = boroughs[\"Average_Daily_Price\"].astype(int), \n",
    "          legend = \"Avg Daily Price\",\n",
    "          color = \"tab:orange\",\n",
    "          title = \"Average Daily Price by Boroughs\", \n",
    "          xlabel = \"Boroughs\",\n",
    "          ylabel = \"Listing\",\n",
    "          weight = 12,\n",
    "          height = 4,\n",
    "          ymin = None,\n",
    "          ymax = 225,\n",
    "          #font_size = 14,\n",
    "          xticks_rotation = \"horizontal\"\n",
    "         )"
   ]
  },
  {
   "cell_type": "markdown",
   "metadata": {},
   "source": [
    "## Listing and Price Review by Neighborhood"
   ]
  },
  {
   "cell_type": "code",
   "execution_count": null,
   "metadata": {},
   "outputs": [],
   "source": [
    "neighborhood = listing.groupby([\"neighbourhood_group_cleansed\", \"neighbourhood_cleansed\"]).agg({\"id\" : \"count\", \"price_per_day\" : \"mean\"}).reset_index()\n",
    "\n",
    "neighborhood.rename(columns = {\"neighbourhood_cleansed\":\"Neighbourhood\",\n",
    "                                \"id\" : \"Listing_Count\",\n",
    "                                \"price_per_day\" : \"Average_Daily_Price\"}, inplace = True)\n",
    "neighborhood[\"Listing_Pct\"] = neighborhood[\"Listing_Count\"]/boroughs[\"Listing_Count\"].sum()\n",
    "neighborhood.sort_values([\"Listing_Count\"], ascending = False, inplace = True)\n",
    "neighborhood.head(10)"
   ]
  },
  {
   "cell_type": "code",
   "execution_count": null,
   "metadata": {
    "scrolled": false
   },
   "outputs": [],
   "source": [
    "neighborhood.sort_values([\"Listing_Count\"], ascending = False, inplace = True)\n",
    "bar_chart(x = neighborhood[\"Neighbourhood\"][0:10], \n",
    "          y = neighborhood[\"Listing_Count\"][0:10], \n",
    "          legend = \"Total Listing\",\n",
    "          color = \"tab:blue\",\n",
    "          title = \"Total Listing by New York City Neighborhood\", \n",
    "          xlabel = \"Neighborhood\",\n",
    "          ylabel = \"Listing\",\n",
    "          weight = 12,\n",
    "          height = 5,\n",
    "          ymin = None,\n",
    "          ymax = 4500,\n",
    "          #font_size = 8,\n",
    "          xticks_rotation = \"vertical\"\n",
    "         )"
   ]
  },
  {
   "cell_type": "code",
   "execution_count": null,
   "metadata": {},
   "outputs": [],
   "source": [
    "neighborhood.sort_values([\"Average_Daily_Price\"], ascending = False, inplace = True)\n",
    "bar_chart(x = neighborhood[\"Neighbourhood\"][0:10], \n",
    "          y = neighborhood[\"Average_Daily_Price\"].astype(int)[0:10], \n",
    "          legend = \"Average_Daily_Price\",\n",
    "          color = \"tab:orange\",\n",
    "          title = \"Total Listing by New York City Neighborhood\", \n",
    "          xlabel = \"Neighborhood\",\n",
    "          ylabel = \"Listing\",\n",
    "          weight = 15,\n",
    "          height = 5,\n",
    "          ymin = None,\n",
    "          ymax = 850,\n",
    "          #font_size = 10,\n",
    "          xticks_rotation = \"vertical\"\n",
    "         )"
   ]
  },
  {
   "cell_type": "markdown",
   "metadata": {},
   "source": [
    "## Listing and Price Review by Property Type"
   ]
  },
  {
   "cell_type": "code",
   "execution_count": null,
   "metadata": {},
   "outputs": [],
   "source": [
    "property_type = listing.groupby([\"property_type\"]).agg({\"id\" : \"count\", \"price_per_day\" : \"mean\"}).reset_index()\n",
    "\n",
    "property_type.rename(columns = {\"property_type\":\"Property_Type\",\n",
    "                                \"id\" : \"Listing_Count\",\n",
    "                                \"price_per_day\" : \"Average_Daily_Price\"}, inplace = True)\n",
    "\n",
    "property_type[\"Listing_Pct\"] = property_type[\"Listing_Count\"]/property_type[\"Listing_Count\"].sum()\n",
    "property_type.head(10)"
   ]
  },
  {
   "cell_type": "code",
   "execution_count": null,
   "metadata": {},
   "outputs": [],
   "source": [
    "property_type.sort_values([\"Listing_Count\"], ascending = False, inplace = True)\n",
    "bar_chart(x = property_type[\"Property_Type\"][0:10], \n",
    "          y = property_type[\"Listing_Count\"][0:10], \n",
    "          legend = \"Total Listing\",\n",
    "          color = \"tab:blue\",\n",
    "          title = \"Total Listing by Property Type\", \n",
    "          xlabel = \"Property Type\",\n",
    "          ylabel = \"Listing\",\n",
    "          weight = 15,\n",
    "          height = 6,\n",
    "          ymin = None,\n",
    "          ymax = 45000,\n",
    "          #font_size = 8,\n",
    "          xticks_rotation = \"vertical\"\n",
    "         )"
   ]
  },
  {
   "cell_type": "code",
   "execution_count": null,
   "metadata": {},
   "outputs": [],
   "source": [
    "property_type.sort_values([\"Average_Daily_Price\"], ascending = False, inplace = True)\n",
    "bar_chart(x = property_type[\"Property_Type\"][0:10], \n",
    "          y = property_type[\"Average_Daily_Price\"].astype(int)[0:10], \n",
    "          legend = \"Average Daily Price\",\n",
    "          color = \"tab:orange\",\n",
    "          title = \"Average Daily Price by Property Type\", \n",
    "          xlabel = \"Property Type\",\n",
    "          ylabel = \"Listing\",\n",
    "          weight = 15,\n",
    "          height = 6,\n",
    "          ymin = None,\n",
    "          ymax = 1400,\n",
    "          #font_size = 8,\n",
    "          xticks_rotation = \"vertical\"\n",
    "         )"
   ]
  },
  {
   "cell_type": "markdown",
   "metadata": {},
   "source": [
    "## Host Review by Host Year"
   ]
  },
  {
   "cell_type": "code",
   "execution_count": null,
   "metadata": {},
   "outputs": [],
   "source": [
    "listing[\"host_year\"] = np.where(listing[\"host_since\"].isnull(), None, listing[\"host_since\"].dt.strftime('%Y'))\n",
    "listing_count = listing.groupby([\"host_year\"])[[\"id\"]].count().reset_index()\n",
    "listing_count.rename(columns = {\"id\" : \"host_count\"}, inplace = True)\n",
    "listing_count[\"host_in_total\"] = listing_count[\"host_count\"].cumsum()\n",
    "listing_count"
   ]
  },
  {
   "cell_type": "code",
   "execution_count": null,
   "metadata": {},
   "outputs": [],
   "source": [
    "bar_chart(x = listing_count[\"host_year\"], \n",
    "          y = listing_count[\"host_count\"], \n",
    "          legend = \"Listing\",\n",
    "          color = \"tab:blue\",\n",
    "          title = \"Listing by Year\", \n",
    "          xlabel = \"Year\",\n",
    "          ylabel = \"Listing\",\n",
    "          weight = 12,\n",
    "          height = 4,\n",
    "          ymin = None,\n",
    "          ymax = 9000,\n",
    "          #font_size = 8,\n",
    "          xticks_rotation = \"horizontal\"\n",
    "         )"
   ]
  },
  {
   "cell_type": "markdown",
   "metadata": {},
   "source": [
    "## Correlation between Price and Attributes"
   ]
  },
  {
   "cell_type": "code",
   "execution_count": null,
   "metadata": {},
   "outputs": [],
   "source": [
    "df_corr=listing[[\n",
    "                \"price_per_day\",\n",
    "                \"host_has_profile_pic\",\n",
    "                #\"host_identity_verified\",\n",
    "                \"accommodates\",\n",
    "                \"bathrooms\",\n",
    "                \"bedrooms\",\n",
    "                \"beds\",\n",
    "                \"square_feet\",\n",
    "                \"number_of_reviews\",\n",
    "                #\"review_scores_value\",\n",
    "                \"cleaning_fee\",\n",
    "                \"guests_included\",\n",
    "                \"extra_people\",\n",
    "                ]]\n",
    "\n",
    "df_corr[\"host_has_profile_pic\"] = np.where(df_corr[\"host_has_profile_pic\"] == \"t\", 1, 0)\n",
    "# df_corr[\"host_identity_verified\"] = np.where(df_corr[\"host_identity_verified\"] == \"t\", 1, 0)"
   ]
  },
  {
   "cell_type": "code",
   "execution_count": null,
   "metadata": {},
   "outputs": [],
   "source": [
    "#df_corr.groupby([\"host_identity_verified\"])[\"host_identity_verified\"].count()"
   ]
  },
  {
   "cell_type": "code",
   "execution_count": null,
   "metadata": {},
   "outputs": [],
   "source": [
    "df_corr.info()"
   ]
  },
  {
   "cell_type": "code",
   "execution_count": null,
   "metadata": {
    "scrolled": true
   },
   "outputs": [],
   "source": [
    "corr = df_corr.corr()\n",
    "corr.style.background_gradient()"
   ]
  }
 ],
 "metadata": {
  "kernelspec": {
   "display_name": "Python 3",
   "language": "python",
   "name": "python3"
  },
  "language_info": {
   "codemirror_mode": {
    "name": "ipython",
    "version": 3
   },
   "file_extension": ".py",
   "mimetype": "text/x-python",
   "name": "python",
   "nbconvert_exporter": "python",
   "pygments_lexer": "ipython3",
   "version": "3.7.1"
  }
 },
 "nbformat": 4,
 "nbformat_minor": 2
}
